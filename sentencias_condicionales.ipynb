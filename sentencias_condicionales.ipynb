{
  "nbformat": 4,
  "nbformat_minor": 0,
  "metadata": {
    "colab": {
      "provenance": [],
      "authorship_tag": "ABX9TyPf4EgGVEWwAqTCPTmatNFV",
      "include_colab_link": true
    },
    "kernelspec": {
      "name": "python3",
      "display_name": "Python 3"
    },
    "language_info": {
      "name": "python"
    }
  },
  "cells": [
    {
      "cell_type": "markdown",
      "metadata": {
        "id": "view-in-github",
        "colab_type": "text"
      },
      "source": [
        "<a href=\"https://colab.research.google.com/github/NonLinear-Academy/programacion-estructurada/blob/main/sentencias_condicionales.ipynb\" target=\"_parent\"><img src=\"https://colab.research.google.com/assets/colab-badge.svg\" alt=\"Open In Colab\"/></a>"
      ]
    },
    {
      "cell_type": "code",
      "execution_count": null,
      "metadata": {
        "colab": {
          "base_uri": "https://localhost:8080/"
        },
        "id": "Nw2gdXxA1L12",
        "outputId": "4b1c3ad6-90e7-47fd-f097-28db0b064aba"
      },
      "outputs": [
        {
          "output_type": "execute_result",
          "data": {
            "text/plain": [
              "True"
            ]
          },
          "metadata": {},
          "execution_count": 24
        }
      ],
      "source": [
        "True # verdadero"
      ]
    },
    {
      "cell_type": "code",
      "source": [
        "False # false"
      ],
      "metadata": {
        "colab": {
          "base_uri": "https://localhost:8080/"
        },
        "id": "gn9-oaGd2YWP",
        "outputId": "660939d5-9717-486d-994c-f56341c56008"
      },
      "execution_count": null,
      "outputs": [
        {
          "output_type": "execute_result",
          "data": {
            "text/plain": [
              "False"
            ]
          },
          "metadata": {},
          "execution_count": 25
        }
      ]
    },
    {
      "cell_type": "code",
      "source": [
        "if True: # if = si condicional\n",
        "  print(\"Hola mundo!\")"
      ],
      "metadata": {
        "colab": {
          "base_uri": "https://localhost:8080/"
        },
        "id": "TJW-GYqs2koo",
        "outputId": "85252369-a4fa-4dd6-d152-5392081eeefc"
      },
      "execution_count": null,
      "outputs": [
        {
          "output_type": "stream",
          "name": "stdout",
          "text": [
            "Hola mundo!\n"
          ]
        }
      ]
    },
    {
      "cell_type": "code",
      "source": [
        "if False:\n",
        "  print(\"Hola mundo!\")"
      ],
      "metadata": {
        "id": "m-Lhd0SU2zH1"
      },
      "execution_count": null,
      "outputs": []
    },
    {
      "cell_type": "code",
      "source": [
        "edad = 15\n",
        "if edad >= 18: # >= mayor o igual\n",
        "  print(\"Eres mayor de edad!\")"
      ],
      "metadata": {
        "id": "rmxCLYtD2_X5"
      },
      "execution_count": null,
      "outputs": []
    },
    {
      "cell_type": "code",
      "source": [
        "if True:\n",
        "  print(\"Hola mundo!\")\n",
        "else: # en otro caso\n",
        "  print(\"Adiós mundo!\")"
      ],
      "metadata": {
        "colab": {
          "base_uri": "https://localhost:8080/"
        },
        "id": "ynGZDbSV3Tfv",
        "outputId": "7f0ac7ae-50bc-4e05-8b9d-58522dc7ba9b"
      },
      "execution_count": null,
      "outputs": [
        {
          "output_type": "stream",
          "name": "stdout",
          "text": [
            "Hola mundo!\n"
          ]
        }
      ]
    },
    {
      "cell_type": "code",
      "source": [
        "if False:\n",
        "  print(\"Hola mundo!\")\n",
        "else: # en otro caso\n",
        "  print(\"Adiós mundo!\")"
      ],
      "metadata": {
        "colab": {
          "base_uri": "https://localhost:8080/"
        },
        "id": "VlZu_keu3mlD",
        "outputId": "cdb43d9b-8cc6-472f-94c0-b8041b426953"
      },
      "execution_count": null,
      "outputs": [
        {
          "output_type": "stream",
          "name": "stdout",
          "text": [
            "Adiós mundo!\n"
          ]
        }
      ]
    },
    {
      "cell_type": "code",
      "source": [
        "edad = 15\n",
        "if edad >= 18: # >= mayor o igual\n",
        "  print(\"Eres mayor de edad!\")\n",
        "else:\n",
        "  print(\"Eres menor de edad!\")"
      ],
      "metadata": {
        "colab": {
          "base_uri": "https://localhost:8080/"
        },
        "id": "KHQ8STZn3q1L",
        "outputId": "6be18263-e30d-490c-bf6e-6b33961a0d0d"
      },
      "execution_count": null,
      "outputs": [
        {
          "output_type": "stream",
          "name": "stdout",
          "text": [
            "Eres menor de edad!\n"
          ]
        }
      ]
    },
    {
      "cell_type": "code",
      "source": [
        "edad = -1\n",
        "if edad >= 18: # >= mayor o igual\n",
        "  print(\"Eres mayor de edad!\")\n",
        "else:\n",
        "  print(\"Eres menor de edad!\")"
      ],
      "metadata": {
        "colab": {
          "base_uri": "https://localhost:8080/"
        },
        "id": "4azE--d84j2L",
        "outputId": "ad6f6a1e-07f9-47ed-93c1-abce2f1d96ea"
      },
      "execution_count": null,
      "outputs": [
        {
          "output_type": "stream",
          "name": "stdout",
          "text": [
            "Eres menor de edad!\n"
          ]
        }
      ]
    },
    {
      "cell_type": "code",
      "source": [
        "edad = -1\n",
        "if edad >= 18: # >= mayor o igual\n",
        "  print(\"Eres mayor de edad!\")\n",
        "else:\n",
        "  if edad >= 0:\n",
        "    print(\"Eres menor de edad!\")\n",
        "  else:\n",
        "    print(\"Edad no válida\")"
      ],
      "metadata": {
        "colab": {
          "base_uri": "https://localhost:8080/"
        },
        "id": "e7n8bBC24tTG",
        "outputId": "0613b872-a3cd-431f-9be4-343181b83229"
      },
      "execution_count": null,
      "outputs": [
        {
          "output_type": "stream",
          "name": "stdout",
          "text": [
            "Edad no válida\n"
          ]
        }
      ]
    },
    {
      "cell_type": "code",
      "source": [
        "edad = -1\n",
        "if edad >= 18: # >= mayor o igual\n",
        "  print(\"Eres mayor de edad!\")\n",
        "elif edad >= 0: # if edad < 18 and edad >=0\n",
        "  print(\"Eres menor de edad!\")\n",
        "else:\n",
        "  print(\"Edad no válida\")"
      ],
      "metadata": {
        "colab": {
          "base_uri": "https://localhost:8080/"
        },
        "id": "UH83umKx5CV_",
        "outputId": "d50d2868-a1ae-4e99-e179-9bab45761e85"
      },
      "execution_count": null,
      "outputs": [
        {
          "output_type": "stream",
          "name": "stdout",
          "text": [
            "Edad no válida\n"
          ]
        }
      ]
    },
    {
      "cell_type": "code",
      "source": [
        "try:\n",
        "  1/0\n",
        "except Exception as error:\n",
        "  print(error)"
      ],
      "metadata": {
        "colab": {
          "base_uri": "https://localhost:8080/"
        },
        "id": "CKEPOhbk8sZk",
        "outputId": "fbeb4df7-b24e-4697-f3e9-8b8482500b39"
      },
      "execution_count": null,
      "outputs": [
        {
          "output_type": "stream",
          "name": "stdout",
          "text": [
            "division by zero\n"
          ]
        }
      ]
    },
    {
      "cell_type": "code",
      "source": [
        "edad = \"menos uno\"\n",
        "try:\n",
        "  edad = float(edad)\n",
        "  if edad >= 18: # >= mayor o igual\n",
        "    print(\"Eres mayor de edad!\")\n",
        "  elif edad >= 0: # if edad < 18 and edad >=0\n",
        "    print(\"Eres menor de edad!\")\n",
        "  else:\n",
        "    print(\"La edad debe ser mayor o igual que cero\")\n",
        "except Exception as error:\n",
        "  print(error)"
      ],
      "metadata": {
        "colab": {
          "base_uri": "https://localhost:8080/"
        },
        "id": "AeDi4Zs65qRY",
        "outputId": "447a8e62-310d-4ac0-89fd-8dcec1c9e446"
      },
      "execution_count": null,
      "outputs": [
        {
          "output_type": "stream",
          "name": "stdout",
          "text": [
            "could not convert string to float: 'menos uno'\n"
          ]
        }
      ]
    }
  ]
}