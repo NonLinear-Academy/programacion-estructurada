{
  "nbformat": 4,
  "nbformat_minor": 0,
  "metadata": {
    "colab": {
      "provenance": [],
      "authorship_tag": "ABX9TyNWs2kjWB0XApGcZ6wQguKL",
      "include_colab_link": true
    },
    "kernelspec": {
      "name": "python3",
      "display_name": "Python 3"
    },
    "language_info": {
      "name": "python"
    }
  },
  "cells": [
    {
      "cell_type": "markdown",
      "metadata": {
        "id": "view-in-github",
        "colab_type": "text"
      },
      "source": [
        "<a href=\"https://colab.research.google.com/github/NonLinear-Academy/programacion-estructurada/blob/main/programacion_estructurada.ipynb\" target=\"_parent\"><img src=\"https://colab.research.google.com/assets/colab-badge.svg\" alt=\"Open In Colab\"/></a>"
      ]
    },
    {
      "cell_type": "code",
      "execution_count": null,
      "metadata": {
        "id": "uUUe2jHAUOMR"
      },
      "outputs": [],
      "source": [
        "lista = [5, 3, 8, 1, 2]\n",
        "lista = [1,2,3,5,8]\n",
        "indice_mediado = 5//2\n",
        "mediana = 3"
      ]
    },
    {
      "cell_type": "code",
      "source": [
        "def ordenar_burbuja(lista):\n",
        "  n = len(lista)\n",
        "  for i in range(n): # i = 2\n",
        "    for j in range(n-i-1):\n",
        "      if lista[j] > lista[j+1]:\n",
        "        # temp = lista[j]\n",
        "        # lista[j] = lista[j+1]\n",
        "        # lista[j+1] = temp\n",
        "        lista[j], lista[j+1] = lista[j+1], lista[j]\n",
        "  return lista\n",
        "\n",
        "ordenar_burbuja(lista)"
      ],
      "metadata": {
        "colab": {
          "base_uri": "https://localhost:8080/"
        },
        "id": "DpbIxVgFXXf-",
        "outputId": "a1697a08-ce6f-4d44-cd80-f89f2d73c14a"
      },
      "execution_count": null,
      "outputs": [
        {
          "output_type": "execute_result",
          "data": {
            "text/plain": [
              "[1, 2, 3, 5, 8]"
            ]
          },
          "metadata": {},
          "execution_count": 26
        }
      ]
    },
    {
      "cell_type": "code",
      "source": [
        "def calcular_mediana(lista):\n",
        "  lista_ordenada = ordenar_burbuja(lista)\n",
        "  n = len(lista_ordenada)\n",
        "  indice_mediado = n//2\n",
        "  if n % 2 == 1:\n",
        "    mediana = lista_ordenada[indice_mediado]\n",
        "  # if n % 2 == 0:\n",
        "  else:\n",
        "    mediana = (lista_ordenada[indice_mediado] + lista_ordenada[indice_mediado-1])/2\n",
        "  return mediana"
      ],
      "metadata": {
        "id": "vtYBeKb6ZU8L"
      },
      "execution_count": null,
      "outputs": []
    },
    {
      "cell_type": "code",
      "source": [
        "calcular_mediana(lista)"
      ],
      "metadata": {
        "colab": {
          "base_uri": "https://localhost:8080/"
        },
        "id": "s4Per9EdZ5Hv",
        "outputId": "41fa981a-2900-4e90-a047-c93645fb06d5"
      },
      "execution_count": null,
      "outputs": [
        {
          "output_type": "execute_result",
          "data": {
            "text/plain": [
              "3"
            ]
          },
          "metadata": {},
          "execution_count": 28
        }
      ]
    },
    {
      "cell_type": "code",
      "source": [
        "otra_lista = [10,20,30,40,50,60]\n",
        "calcular_mediana(otra_lista)"
      ],
      "metadata": {
        "colab": {
          "base_uri": "https://localhost:8080/"
        },
        "id": "eF74caWBaGfF",
        "outputId": "68158287-eef6-43dd-83f7-2c4c2fbbd177"
      },
      "execution_count": null,
      "outputs": [
        {
          "output_type": "execute_result",
          "data": {
            "text/plain": [
              "35.0"
            ]
          },
          "metadata": {},
          "execution_count": 29
        }
      ]
    }
  ]
}