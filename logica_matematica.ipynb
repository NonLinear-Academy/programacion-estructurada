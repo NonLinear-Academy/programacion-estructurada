{
  "nbformat": 4,
  "nbformat_minor": 0,
  "metadata": {
    "colab": {
      "provenance": [],
      "authorship_tag": "ABX9TyPb3cMCpXcGswpfSK2G2dUe",
      "include_colab_link": true
    },
    "kernelspec": {
      "name": "python3",
      "display_name": "Python 3"
    },
    "language_info": {
      "name": "python"
    }
  },
  "cells": [
    {
      "cell_type": "markdown",
      "metadata": {
        "id": "view-in-github",
        "colab_type": "text"
      },
      "source": [
        "<a href=\"https://colab.research.google.com/github/NonLinear-Academy/programacion-estructurada/blob/main/logica_matematica.ipynb\" target=\"_parent\"><img src=\"https://colab.research.google.com/assets/colab-badge.svg\" alt=\"Open In Colab\"/></a>"
      ]
    },
    {
      "cell_type": "code",
      "execution_count": 221,
      "metadata": {
        "colab": {
          "base_uri": "https://localhost:8080/"
        },
        "id": "Eag0INykPjyd",
        "outputId": "a5bf93ab-8b5a-4efc-da35-c39240ed585f"
      },
      "outputs": [
        {
          "output_type": "execute_result",
          "data": {
            "text/plain": [
              "1"
            ]
          },
          "metadata": {},
          "execution_count": 221
        }
      ],
      "source": [
        "int(True)"
      ]
    },
    {
      "cell_type": "code",
      "source": [
        "int(False)"
      ],
      "metadata": {
        "colab": {
          "base_uri": "https://localhost:8080/"
        },
        "id": "hm2vGoSgQNEJ",
        "outputId": "5471ad83-4d49-4491-bb17-ce29c02058bd"
      },
      "execution_count": 222,
      "outputs": [
        {
          "output_type": "execute_result",
          "data": {
            "text/plain": [
              "0"
            ]
          },
          "metadata": {},
          "execution_count": 222
        }
      ]
    },
    {
      "cell_type": "code",
      "source": [
        "def tautologia(*args):\n",
        "  return 1"
      ],
      "metadata": {
        "id": "ipFDnpA0RqqB"
      },
      "execution_count": 223,
      "outputs": []
    },
    {
      "cell_type": "code",
      "source": [
        "tautologia(1)"
      ],
      "metadata": {
        "colab": {
          "base_uri": "https://localhost:8080/"
        },
        "id": "SsR71VH4SV-h",
        "outputId": "cf8b389d-9724-4173-bc05-1f91be94d5e9"
      },
      "execution_count": 224,
      "outputs": [
        {
          "output_type": "execute_result",
          "data": {
            "text/plain": [
              "1"
            ]
          },
          "metadata": {},
          "execution_count": 224
        }
      ]
    },
    {
      "cell_type": "code",
      "source": [
        "tautologia(0)"
      ],
      "metadata": {
        "colab": {
          "base_uri": "https://localhost:8080/"
        },
        "id": "1xeLmjbcSZKF",
        "outputId": "5f1a8c08-089a-47e9-ddbf-f571ae66c6b3"
      },
      "execution_count": 225,
      "outputs": [
        {
          "output_type": "execute_result",
          "data": {
            "text/plain": [
              "1"
            ]
          },
          "metadata": {},
          "execution_count": 225
        }
      ]
    },
    {
      "cell_type": "code",
      "source": [
        "def falacia(*args):\n",
        "  return 0"
      ],
      "metadata": {
        "id": "-_s9FOVpSeze"
      },
      "execution_count": 226,
      "outputs": []
    },
    {
      "cell_type": "code",
      "source": [
        "falacia(1)"
      ],
      "metadata": {
        "colab": {
          "base_uri": "https://localhost:8080/"
        },
        "id": "5y8MXcxuSkRm",
        "outputId": "a449a2c2-4dc4-4743-a445-14dbe24fac1b"
      },
      "execution_count": 227,
      "outputs": [
        {
          "output_type": "execute_result",
          "data": {
            "text/plain": [
              "0"
            ]
          },
          "metadata": {},
          "execution_count": 227
        }
      ]
    },
    {
      "cell_type": "code",
      "source": [
        "falacia(0)"
      ],
      "metadata": {
        "colab": {
          "base_uri": "https://localhost:8080/"
        },
        "id": "QZ9L8kjISl8d",
        "outputId": "2079df37-2129-4ced-9d8b-63f7a97d29d7"
      },
      "execution_count": 228,
      "outputs": [
        {
          "output_type": "execute_result",
          "data": {
            "text/plain": [
              "0"
            ]
          },
          "metadata": {},
          "execution_count": 228
        }
      ]
    },
    {
      "cell_type": "code",
      "source": [
        "def identidad(x):\n",
        "  return x"
      ],
      "metadata": {
        "id": "B7B2xdTGSr1y"
      },
      "execution_count": 229,
      "outputs": []
    },
    {
      "cell_type": "code",
      "source": [
        "identidad(0)"
      ],
      "metadata": {
        "colab": {
          "base_uri": "https://localhost:8080/"
        },
        "id": "67gBPrtKSxXA",
        "outputId": "efb01534-e813-4a87-e409-0308f3ce07ec"
      },
      "execution_count": 230,
      "outputs": [
        {
          "output_type": "execute_result",
          "data": {
            "text/plain": [
              "0"
            ]
          },
          "metadata": {},
          "execution_count": 230
        }
      ]
    },
    {
      "cell_type": "code",
      "source": [
        "identidad(1)"
      ],
      "metadata": {
        "colab": {
          "base_uri": "https://localhost:8080/"
        },
        "id": "nTI85Y1ySyuZ",
        "outputId": "bb508793-8d1c-4d0c-f8a0-75f8e7d2a1ca"
      },
      "execution_count": 231,
      "outputs": [
        {
          "output_type": "execute_result",
          "data": {
            "text/plain": [
              "1"
            ]
          },
          "metadata": {},
          "execution_count": 231
        }
      ]
    },
    {
      "cell_type": "code",
      "source": [
        "_negacion = {\n",
        "    0: 1,\n",
        "    1: 0,\n",
        "}"
      ],
      "metadata": {
        "id": "U8Kg43EiS9kx"
      },
      "execution_count": 232,
      "outputs": []
    },
    {
      "cell_type": "code",
      "source": [
        "def negacion(x):\n",
        "    return _negacion[x]"
      ],
      "metadata": {
        "id": "gaYOD0AJS3oc"
      },
      "execution_count": 233,
      "outputs": []
    },
    {
      "cell_type": "code",
      "source": [
        "negacion(0)"
      ],
      "metadata": {
        "colab": {
          "base_uri": "https://localhost:8080/"
        },
        "id": "N5q743XaTP_i",
        "outputId": "9ae4c1ec-2f4d-4e79-d309-8d2a6abbddde"
      },
      "execution_count": 234,
      "outputs": [
        {
          "output_type": "execute_result",
          "data": {
            "text/plain": [
              "1"
            ]
          },
          "metadata": {},
          "execution_count": 234
        }
      ]
    },
    {
      "cell_type": "code",
      "source": [
        "negacion(1)"
      ],
      "metadata": {
        "colab": {
          "base_uri": "https://localhost:8080/"
        },
        "id": "NiKWmXjoTT6F",
        "outputId": "a8bc5cc2-7d15-4d37-b9b2-0270a8873b4f"
      },
      "execution_count": 235,
      "outputs": [
        {
          "output_type": "execute_result",
          "data": {
            "text/plain": [
              "0"
            ]
          },
          "metadata": {},
          "execution_count": 235
        }
      ]
    },
    {
      "cell_type": "markdown",
      "source": [
        "```\n",
        "tabla = {\n",
        "  0 : {\n",
        "    0 : p,\n",
        "    1 : q,\n",
        "  },\n",
        "  1: {\n",
        "    0: r,\n",
        "    1: s\n",
        "  }\n",
        "}\n",
        "```"
      ],
      "metadata": {
        "id": "XW8j8J3WTlwE"
      }
    },
    {
      "cell_type": "code",
      "source": [
        "tautologia(1,0,0)"
      ],
      "metadata": {
        "colab": {
          "base_uri": "https://localhost:8080/"
        },
        "id": "8tlz7fBBUYdz",
        "outputId": "69869ec1-54c1-4ea8-b6f7-2a3fcf46db64"
      },
      "execution_count": 236,
      "outputs": [
        {
          "output_type": "execute_result",
          "data": {
            "text/plain": [
              "1"
            ]
          },
          "metadata": {},
          "execution_count": 236
        }
      ]
    },
    {
      "cell_type": "code",
      "source": [
        "falacia(0,1)"
      ],
      "metadata": {
        "colab": {
          "base_uri": "https://localhost:8080/"
        },
        "id": "q0vDe-ZzUytc",
        "outputId": "8aa16b52-ecf0-4185-93c4-d9f57a5f9b9a"
      },
      "execution_count": 237,
      "outputs": [
        {
          "output_type": "execute_result",
          "data": {
            "text/plain": [
              "0"
            ]
          },
          "metadata": {},
          "execution_count": 237
        }
      ]
    },
    {
      "cell_type": "code",
      "source": [
        "# conjugación\n",
        "_and = {\n",
        "    0 : { 0 : 0, 1 : 0 },\n",
        "    1 : { 0 : 0, 1 : 1 }\n",
        "}"
      ],
      "metadata": {
        "id": "YNpKayqmU-z5"
      },
      "execution_count": 238,
      "outputs": []
    },
    {
      "cell_type": "code",
      "source": [
        "def AND(x,y):\n",
        "  return _and[x][y]"
      ],
      "metadata": {
        "id": "b1IsFGujVUr_"
      },
      "execution_count": 239,
      "outputs": []
    },
    {
      "cell_type": "code",
      "source": [
        "for x in [0,1]:\n",
        "  for y in [0,1]:\n",
        "    print(f\"{x} AND {y} = {AND(x,y)}\")"
      ],
      "metadata": {
        "colab": {
          "base_uri": "https://localhost:8080/"
        },
        "id": "7GfOx5B4Vfej",
        "outputId": "b759b9fe-48dd-40cf-8341-b83354ca6142"
      },
      "execution_count": 240,
      "outputs": [
        {
          "output_type": "stream",
          "name": "stdout",
          "text": [
            "0 AND 0 = 0\n",
            "0 AND 1 = 0\n",
            "1 AND 0 = 0\n",
            "1 AND 1 = 1\n"
          ]
        }
      ]
    },
    {
      "cell_type": "code",
      "source": [
        "# disjunción (inclusivo)\n",
        "_or = {\n",
        "    0 : { 0 : 0, 1 : 1 },\n",
        "    1 : { 0 : 1, 1 : 1 }\n",
        "}"
      ],
      "metadata": {
        "id": "7Hk49AXiWEaS"
      },
      "execution_count": 241,
      "outputs": []
    },
    {
      "cell_type": "code",
      "source": [
        "def OR(x,y):\n",
        "  return _or[x][y]"
      ],
      "metadata": {
        "id": "MedXfEU8WMd1"
      },
      "execution_count": 242,
      "outputs": []
    },
    {
      "cell_type": "code",
      "source": [
        "for x in [0,1]:\n",
        "  for y in [0,1]:\n",
        "    print(f\"{x} OR {y} = {OR(x,y)}\")"
      ],
      "metadata": {
        "colab": {
          "base_uri": "https://localhost:8080/"
        },
        "id": "deBG-FoFWRxm",
        "outputId": "e2aa49d1-352d-46a9-92a2-199026599c2f"
      },
      "execution_count": 243,
      "outputs": [
        {
          "output_type": "stream",
          "name": "stdout",
          "text": [
            "0 OR 0 = 0\n",
            "0 OR 1 = 1\n",
            "1 OR 0 = 1\n",
            "1 OR 1 = 1\n"
          ]
        }
      ]
    },
    {
      "cell_type": "code",
      "source": [
        "#disjunción exclusiva\n",
        "_xor = {\n",
        "    0 : { 0 : 0, 1 : 1 },\n",
        "    1 : { 0 : 1, 1 : 0 }\n",
        "}"
      ],
      "metadata": {
        "id": "A1IWfCB2W9TM"
      },
      "execution_count": 244,
      "outputs": []
    },
    {
      "cell_type": "code",
      "source": [
        "def XOR(x,y):\n",
        "  return _xor[x][y]"
      ],
      "metadata": {
        "id": "NnvONF-FXBpO"
      },
      "execution_count": 245,
      "outputs": []
    },
    {
      "cell_type": "code",
      "source": [
        "for x in [0,1]:\n",
        "  for y in [0,1]:\n",
        "    print(f\"{x} XOR {y} = {XOR(x,y)}\")"
      ],
      "metadata": {
        "colab": {
          "base_uri": "https://localhost:8080/"
        },
        "id": "djUsSCQnXDxC",
        "outputId": "808be010-67aa-496e-865c-8ef6085f2b1c"
      },
      "execution_count": 246,
      "outputs": [
        {
          "output_type": "stream",
          "name": "stdout",
          "text": [
            "0 XOR 0 = 0\n",
            "0 XOR 1 = 1\n",
            "1 XOR 0 = 1\n",
            "1 XOR 1 = 0\n"
          ]
        }
      ]
    },
    {
      "cell_type": "code",
      "source": [
        "# implicación x->y if x then y\n",
        "_implies = {\n",
        "    0 : { 0 : 1, 1 : 1 },\n",
        "    1 : { 0 : 0, 1 : 1 }\n",
        "}"
      ],
      "metadata": {
        "id": "iH_jbC9I4xgi"
      },
      "execution_count": 247,
      "outputs": []
    },
    {
      "cell_type": "code",
      "source": [
        "def IMPLIES(x,y):\n",
        "  return _implies[x][y]"
      ],
      "metadata": {
        "id": "jKcojhBr4tzi"
      },
      "execution_count": 248,
      "outputs": []
    },
    {
      "cell_type": "code",
      "source": [
        "for x in [0,1]:\n",
        "  for y in [0,1]:\n",
        "    print(f\"{x} IMPLIES {y} = {IMPLIES(x,y)}\")"
      ],
      "metadata": {
        "colab": {
          "base_uri": "https://localhost:8080/"
        },
        "id": "LZ-9m9OT5f5i",
        "outputId": "aca3ce1f-fc1b-47b9-aa2c-1b8e36eb939a"
      },
      "execution_count": 249,
      "outputs": [
        {
          "output_type": "stream",
          "name": "stdout",
          "text": [
            "0 IMPLIES 0 = 1\n",
            "0 IMPLIES 1 = 1\n",
            "1 IMPLIES 0 = 0\n",
            "1 IMPLIES 1 = 1\n"
          ]
        }
      ]
    },
    {
      "cell_type": "code",
      "source": [
        "# equivalencia x<->y x if and only if y\n",
        "_iff = {\n",
        "    0 : { 0 : 1, 1 : 0 },\n",
        "    1 : { 0 : 0, 1 : 1 }\n",
        "}"
      ],
      "metadata": {
        "id": "Hib1q6b65lfc"
      },
      "execution_count": 250,
      "outputs": []
    },
    {
      "cell_type": "code",
      "source": [
        "def IFF(x,y):\n",
        "  return _iff[x][y]"
      ],
      "metadata": {
        "id": "Sw7jatcI53FC"
      },
      "execution_count": 251,
      "outputs": []
    },
    {
      "cell_type": "code",
      "source": [
        "for x in [0,1]:\n",
        "  for y in [0,1]:\n",
        "    print(f\"{x} IFF {y} = {IFF(x,y)}\")"
      ],
      "metadata": {
        "colab": {
          "base_uri": "https://localhost:8080/"
        },
        "id": "RSh2_9aB59Wm",
        "outputId": "d0c417be-7e3b-406e-a10d-62b5b6c0b1c1"
      },
      "execution_count": 252,
      "outputs": [
        {
          "output_type": "stream",
          "name": "stdout",
          "text": [
            "0 IFF 0 = 1\n",
            "0 IFF 1 = 0\n",
            "1 IFF 0 = 0\n",
            "1 IFF 1 = 1\n"
          ]
        }
      ]
    },
    {
      "cell_type": "code",
      "source": [
        "#negacion\n",
        "\n",
        "_not = {\n",
        "    0 : 1,\n",
        "    1 : 0\n",
        "}"
      ],
      "metadata": {
        "id": "7YNBZ_m66SUW"
      },
      "execution_count": 253,
      "outputs": []
    },
    {
      "cell_type": "code",
      "source": [
        "def NOT(x):\n",
        "  return _not[x]"
      ],
      "metadata": {
        "id": "upadVFnd6W94"
      },
      "execution_count": 254,
      "outputs": []
    },
    {
      "cell_type": "code",
      "source": [
        "for x in [0,1]:\n",
        "  print(f\"NOT {x} = {NOT(x)}\")"
      ],
      "metadata": {
        "colab": {
          "base_uri": "https://localhost:8080/"
        },
        "id": "HWaQ7_sv6bNj",
        "outputId": "2cf8e6c6-f4eb-407d-dbbd-e7f149076af1"
      },
      "execution_count": 255,
      "outputs": [
        {
          "output_type": "stream",
          "name": "stdout",
          "text": [
            "NOT 0 = 1\n",
            "NOT 1 = 0\n"
          ]
        }
      ]
    },
    {
      "cell_type": "code",
      "source": [
        "def PROP(x,y):\n",
        "  return NOT(XOR(x,y))"
      ],
      "metadata": {
        "id": "HO4SQ9jE6h3j"
      },
      "execution_count": 256,
      "outputs": []
    },
    {
      "cell_type": "code",
      "source": [
        "for x in [0,1]:\n",
        "  for y in [0,1]:\n",
        "    print(f\"{x} PROP {y} = {PROP(x,y)}\")"
      ],
      "metadata": {
        "colab": {
          "base_uri": "https://localhost:8080/"
        },
        "id": "igbvI8FG6qus",
        "outputId": "8e847190-af9f-49b6-8743-a901b19efac6"
      },
      "execution_count": 257,
      "outputs": [
        {
          "output_type": "stream",
          "name": "stdout",
          "text": [
            "0 PROP 0 = 1\n",
            "0 PROP 1 = 0\n",
            "1 PROP 0 = 0\n",
            "1 PROP 1 = 1\n"
          ]
        }
      ]
    },
    {
      "cell_type": "code",
      "source": [
        "def PROP2(x,y):\n",
        "  return IFF(PROP(x,y), IFF(x,y))"
      ],
      "metadata": {
        "id": "NjoUJRUQ6sG1"
      },
      "execution_count": 258,
      "outputs": []
    },
    {
      "cell_type": "code",
      "source": [
        "for x in [0,1]:\n",
        "  for y in [0,1]:\n",
        "    print(f\"{x} PROP2 {y} = {PROP2(x,y)}\")"
      ],
      "metadata": {
        "colab": {
          "base_uri": "https://localhost:8080/"
        },
        "id": "EG99O2Dc7A2z",
        "outputId": "d3d01bff-6afe-4221-9fb7-374166d0b37c"
      },
      "execution_count": 259,
      "outputs": [
        {
          "output_type": "stream",
          "name": "stdout",
          "text": [
            "0 PROP2 0 = 1\n",
            "0 PROP2 1 = 1\n",
            "1 PROP2 0 = 1\n",
            "1 PROP2 1 = 1\n"
          ]
        }
      ]
    },
    {
      "cell_type": "markdown",
      "source": [
        "\n",
        "*   ~(x^y) <=> (x<->y)*\n",
        "*   (x->y) <=> (~x or y)"
      ],
      "metadata": {
        "id": "DGf14l7P7ZDC"
      }
    },
    {
      "cell_type": "code",
      "source": [
        "def PROP3(x,y):\n",
        "  return IFF(IMPLIES(x,y), OR(NOT(x),y))"
      ],
      "metadata": {
        "id": "bebIqJ5F8Xfv"
      },
      "execution_count": 260,
      "outputs": []
    },
    {
      "cell_type": "code",
      "source": [
        "for x in [0,1]:\n",
        "  for y in [0,1]:\n",
        "    print(f\"{x} PROP3 {y} = {PROP3(x,y)}\")"
      ],
      "metadata": {
        "colab": {
          "base_uri": "https://localhost:8080/"
        },
        "id": "4CqjPGIm8mrB",
        "outputId": "7e93011d-8541-4b28-dbf3-c391febafdef"
      },
      "execution_count": 261,
      "outputs": [
        {
          "output_type": "stream",
          "name": "stdout",
          "text": [
            "0 PROP3 0 = 1\n",
            "0 PROP3 1 = 1\n",
            "1 PROP3 0 = 1\n",
            "1 PROP3 1 = 1\n"
          ]
        }
      ]
    },
    {
      "cell_type": "code",
      "source": [
        "for x in [0,1]:\n",
        "  for y in [0,1]:\n",
        "    print(f\"{x} and {y} = {x and y}\")"
      ],
      "metadata": {
        "colab": {
          "base_uri": "https://localhost:8080/"
        },
        "id": "TfZgUhNZ89EU",
        "outputId": "26a568ef-bc7f-4523-847c-13e905b4d39d"
      },
      "execution_count": 262,
      "outputs": [
        {
          "output_type": "stream",
          "name": "stdout",
          "text": [
            "0 and 0 = 0\n",
            "0 and 1 = 0\n",
            "1 and 0 = 0\n",
            "1 and 1 = 1\n"
          ]
        }
      ]
    },
    {
      "cell_type": "code",
      "source": [
        "for x in [0,1]:\n",
        "  for y in [0,1]:\n",
        "    print(f\"{x} or {y} = {x or y}\")"
      ],
      "metadata": {
        "colab": {
          "base_uri": "https://localhost:8080/"
        },
        "id": "pZEzeQfe9pE0",
        "outputId": "c2e45176-946e-47c0-c6c2-72e555efee9d"
      },
      "execution_count": 263,
      "outputs": [
        {
          "output_type": "stream",
          "name": "stdout",
          "text": [
            "0 or 0 = 0\n",
            "0 or 1 = 1\n",
            "1 or 0 = 1\n",
            "1 or 1 = 1\n"
          ]
        }
      ]
    },
    {
      "cell_type": "code",
      "source": [
        "for x in [0,1]:\n",
        "  for y in [0,1]:\n",
        "    print(f\"{x} xor {y} = {x ^ y}\")"
      ],
      "metadata": {
        "colab": {
          "base_uri": "https://localhost:8080/"
        },
        "id": "afW_QEnZ9ugp",
        "outputId": "c80583ac-d92c-4a31-9635-23db84865b22"
      },
      "execution_count": 264,
      "outputs": [
        {
          "output_type": "stream",
          "name": "stdout",
          "text": [
            "0 xor 0 = 0\n",
            "0 xor 1 = 1\n",
            "1 xor 0 = 1\n",
            "1 xor 1 = 0\n"
          ]
        }
      ]
    },
    {
      "cell_type": "code",
      "source": [
        "if True:\n",
        "  print(\"hola\")"
      ],
      "metadata": {
        "colab": {
          "base_uri": "https://localhost:8080/"
        },
        "id": "u-jEtqJz924i",
        "outputId": "59cecf93-1e3b-4b06-f89a-9495342e52bb"
      },
      "execution_count": 265,
      "outputs": [
        {
          "output_type": "stream",
          "name": "stdout",
          "text": [
            "hola\n"
          ]
        }
      ]
    },
    {
      "cell_type": "code",
      "source": [
        "if False:\n",
        "  print(\"hola\")"
      ],
      "metadata": {
        "id": "R9oePZbu-Jap"
      },
      "execution_count": 267,
      "outputs": []
    }
  ]
}