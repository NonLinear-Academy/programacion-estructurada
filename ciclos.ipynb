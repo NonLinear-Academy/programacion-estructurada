{
  "nbformat": 4,
  "nbformat_minor": 0,
  "metadata": {
    "colab": {
      "provenance": [],
      "authorship_tag": "ABX9TyMVN+MSXX8sUSMcVS+NWDDk",
      "include_colab_link": true
    },
    "kernelspec": {
      "name": "python3",
      "display_name": "Python 3"
    },
    "language_info": {
      "name": "python"
    }
  },
  "cells": [
    {
      "cell_type": "markdown",
      "metadata": {
        "id": "view-in-github",
        "colab_type": "text"
      },
      "source": [
        "<a href=\"https://colab.research.google.com/github/NonLinear-Academy/programacion-estructurada/blob/main/ciclos.ipynb\" target=\"_parent\"><img src=\"https://colab.research.google.com/assets/colab-badge.svg\" alt=\"Open In Colab\"/></a>"
      ]
    },
    {
      "cell_type": "code",
      "execution_count": 2,
      "metadata": {
        "colab": {
          "base_uri": "https://localhost:8080/"
        },
        "id": "suX5emjaMdyL",
        "outputId": "3fba2870-0bae-4230-cc5f-05aaf3a9ddeb"
      },
      "outputs": [
        {
          "output_type": "stream",
          "name": "stdout",
          "text": [
            "Hola\n",
            "<class 'str'>\n",
            "Mundo!\n",
            "<class 'str'>\n",
            "1234\n",
            "<class 'int'>\n",
            "3.14159\n",
            "<class 'float'>\n",
            "True\n",
            "<class 'bool'>\n",
            "False\n",
            "<class 'bool'>\n",
            "['a', 0]\n",
            "<class 'list'>\n",
            "python\n",
            "<class 'str'>\n"
          ]
        }
      ],
      "source": [
        "mi_lista = [\"Hola\", \"Mundo!\", 1234, 3.14159, True, False, [\"a\", 0], \"python\"]\n",
        "\n",
        "for elemento in mi_lista:\n",
        "  print(elemento)\n",
        "  print(type(elemento))"
      ]
    },
    {
      "cell_type": "code",
      "source": [
        "def f(x):\n",
        "  return 2*x+1"
      ],
      "metadata": {
        "id": "_LpSwH08NCEl"
      },
      "execution_count": 4,
      "outputs": []
    },
    {
      "cell_type": "code",
      "source": [
        "for numero in [1,2,3,4,5,6,7,8,9,10]:\n",
        "  print(f(numero))"
      ],
      "metadata": {
        "colab": {
          "base_uri": "https://localhost:8080/"
        },
        "id": "mU6Hd03KNPlA",
        "outputId": "80952a54-3e03-4d29-eeb4-271cfacf6f99"
      },
      "execution_count": 5,
      "outputs": [
        {
          "output_type": "stream",
          "name": "stdout",
          "text": [
            "3\n",
            "5\n",
            "7\n",
            "9\n",
            "11\n",
            "13\n",
            "15\n",
            "17\n",
            "19\n",
            "21\n"
          ]
        }
      ]
    },
    {
      "cell_type": "code",
      "source": [
        "for numero in range(1, 10+1):\n",
        "  print(numero, f(numero))"
      ],
      "metadata": {
        "colab": {
          "base_uri": "https://localhost:8080/"
        },
        "id": "_ibW6r36Ndme",
        "outputId": "50fb3600-4911-4781-aaa4-ebd2a4a1a883"
      },
      "execution_count": 13,
      "outputs": [
        {
          "output_type": "stream",
          "name": "stdout",
          "text": [
            "1 3\n",
            "2 5\n",
            "3 7\n",
            "4 9\n",
            "5 11\n",
            "6 13\n",
            "7 15\n",
            "8 17\n",
            "9 19\n",
            "10 21\n"
          ]
        }
      ]
    },
    {
      "cell_type": "code",
      "source": [
        "range(1,1000001)"
      ],
      "metadata": {
        "colab": {
          "base_uri": "https://localhost:8080/"
        },
        "id": "WZcRoCcyOkDT",
        "outputId": "37d1b55b-4211-4ea1-82f2-bd91322e7e36"
      },
      "execution_count": 15,
      "outputs": [
        {
          "output_type": "execute_result",
          "data": {
            "text/plain": [
              "range(1, 1000001)"
            ]
          },
          "metadata": {},
          "execution_count": 15
        }
      ]
    },
    {
      "cell_type": "code",
      "source": [
        "for x in range(1,1000001):\n",
        "  if x > 5:\n",
        "    break\n",
        "  print(x)"
      ],
      "metadata": {
        "colab": {
          "base_uri": "https://localhost:8080/"
        },
        "id": "9Mz8Y6zoPFLi",
        "outputId": "1e5ec305-5685-4a27-9a36-40c8e95560b9"
      },
      "execution_count": 17,
      "outputs": [
        {
          "output_type": "stream",
          "name": "stdout",
          "text": [
            "1\n",
            "2\n",
            "3\n",
            "4\n",
            "5\n"
          ]
        }
      ]
    },
    {
      "cell_type": "code",
      "source": [
        "list(range(1,11))"
      ],
      "metadata": {
        "colab": {
          "base_uri": "https://localhost:8080/"
        },
        "id": "WqT-VEubPbBr",
        "outputId": "a92e0c8e-cde9-4cea-df8a-7f3628496c97"
      },
      "execution_count": 18,
      "outputs": [
        {
          "output_type": "execute_result",
          "data": {
            "text/plain": [
              "[1, 2, 3, 4, 5, 6, 7, 8, 9, 10]"
            ]
          },
          "metadata": {},
          "execution_count": 18
        }
      ]
    },
    {
      "cell_type": "code",
      "source": [
        "tuple(range(1,11))"
      ],
      "metadata": {
        "colab": {
          "base_uri": "https://localhost:8080/"
        },
        "id": "MpP8cufoPfVy",
        "outputId": "049cf9bb-7ff9-4e98-adcb-7ec06aa09f77"
      },
      "execution_count": 19,
      "outputs": [
        {
          "output_type": "execute_result",
          "data": {
            "text/plain": [
              "(1, 2, 3, 4, 5, 6, 7, 8, 9, 10)"
            ]
          },
          "metadata": {},
          "execution_count": 19
        }
      ]
    },
    {
      "cell_type": "code",
      "source": [
        "clientes = [\"Juan\", \"Ana\", \"Pedro\", \"Maria\"]\n",
        "compras = [1000, 1002, 1004, 1006]"
      ],
      "metadata": {
        "id": "0z65t6SEPwKG"
      },
      "execution_count": 22,
      "outputs": []
    },
    {
      "cell_type": "code",
      "source": [
        "for posicion in [0,1,2,3]:\n",
        "  print(clientes[posicion], compras[posicion])"
      ],
      "metadata": {
        "colab": {
          "base_uri": "https://localhost:8080/"
        },
        "id": "MWK0qnu5QClR",
        "outputId": "6c133c69-7bb3-4dde-dd71-7164b4783c79"
      },
      "execution_count": 23,
      "outputs": [
        {
          "output_type": "stream",
          "name": "stdout",
          "text": [
            "Juan 1000\n",
            "Ana 1002\n",
            "Pedro 1004\n",
            "Maria 1006\n"
          ]
        }
      ]
    },
    {
      "cell_type": "code",
      "source": [
        "for posicion in range(4):\n",
        "  print(clientes[posicion], compras[posicion])"
      ],
      "metadata": {
        "colab": {
          "base_uri": "https://localhost:8080/"
        },
        "id": "SVapGELaQWLO",
        "outputId": "562b3144-d5eb-402f-9909-96e91a7f79d8"
      },
      "execution_count": 29,
      "outputs": [
        {
          "output_type": "stream",
          "name": "stdout",
          "text": [
            "Juan 1000\n",
            "Ana 1002\n",
            "Pedro 1004\n",
            "Maria 1006\n"
          ]
        }
      ]
    },
    {
      "cell_type": "code",
      "source": [
        "for posicion in range(len(clientes)):\n",
        "  print(clientes[posicion], compras[posicion])"
      ],
      "metadata": {
        "colab": {
          "base_uri": "https://localhost:8080/"
        },
        "id": "tH7kDYhMQtxB",
        "outputId": "0d47351f-99c0-4255-a637-e8e03a82a564"
      },
      "execution_count": 30,
      "outputs": [
        {
          "output_type": "stream",
          "name": "stdout",
          "text": [
            "Juan 1000\n",
            "Ana 1002\n",
            "Pedro 1004\n",
            "Maria 1006\n"
          ]
        }
      ]
    },
    {
      "cell_type": "code",
      "source": [
        "for cliente, compra in zip(clientes, compras):\n",
        "  print(cliente, compra)"
      ],
      "metadata": {
        "colab": {
          "base_uri": "https://localhost:8080/"
        },
        "id": "pT25YK5tQ6OI",
        "outputId": "4756caa0-60f4-43bf-93ca-e00db10c04bc"
      },
      "execution_count": 31,
      "outputs": [
        {
          "output_type": "stream",
          "name": "stdout",
          "text": [
            "Juan 1000\n",
            "Ana 1002\n",
            "Pedro 1004\n",
            "Maria 1006\n"
          ]
        }
      ]
    },
    {
      "cell_type": "code",
      "source": [
        "posicion = 0\n",
        "while posicion < len(clientes):\n",
        "  print(clientes[posicion], compras[posicion])\n",
        "  posicion += 1"
      ],
      "metadata": {
        "colab": {
          "base_uri": "https://localhost:8080/"
        },
        "id": "1j0TXyljTve8",
        "outputId": "98182ff1-f698-4bcc-fc08-e396af48776a"
      },
      "execution_count": 32,
      "outputs": [
        {
          "output_type": "stream",
          "name": "stdout",
          "text": [
            "Juan 1000\n",
            "Ana 1002\n",
            "Pedro 1004\n",
            "Maria 1006\n"
          ]
        }
      ]
    },
    {
      "cell_type": "code",
      "source": [
        "x = 0\n",
        "while x <= 1:\n",
        "  print(x)\n",
        "  x+=0.1"
      ],
      "metadata": {
        "colab": {
          "base_uri": "https://localhost:8080/"
        },
        "id": "vP58RXHVUfGi",
        "outputId": "fbc1904d-2957-420e-896a-44860e8e4c6f"
      },
      "execution_count": 38,
      "outputs": [
        {
          "output_type": "stream",
          "name": "stdout",
          "text": [
            "0\n",
            "0.1\n",
            "0.2\n",
            "0.30000000000000004\n",
            "0.4\n",
            "0.5\n",
            "0.6\n",
            "0.7\n",
            "0.7999999999999999\n",
            "0.8999999999999999\n",
            "0.9999999999999999\n"
          ]
        }
      ]
    },
    {
      "cell_type": "code",
      "source": [
        "import numpy as np\n",
        "\n",
        "for x in np.linspace(0,1,11):\n",
        "  print(x)"
      ],
      "metadata": {
        "colab": {
          "base_uri": "https://localhost:8080/"
        },
        "id": "XykdryoJVTBp",
        "outputId": "32bc30d5-a144-4f25-abc0-2d2fb5818e97"
      },
      "execution_count": 41,
      "outputs": [
        {
          "output_type": "stream",
          "name": "stdout",
          "text": [
            "0.0\n",
            "0.1\n",
            "0.2\n",
            "0.30000000000000004\n",
            "0.4\n",
            "0.5\n",
            "0.6000000000000001\n",
            "0.7000000000000001\n",
            "0.8\n",
            "0.9\n",
            "1.0\n"
          ]
        }
      ]
    }
  ]
}