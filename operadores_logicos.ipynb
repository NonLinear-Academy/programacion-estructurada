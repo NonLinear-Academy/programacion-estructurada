{
  "nbformat": 4,
  "nbformat_minor": 0,
  "metadata": {
    "colab": {
      "provenance": [],
      "authorship_tag": "ABX9TyOpKXMCkRckrEzxoj+L7VMt",
      "include_colab_link": true
    },
    "kernelspec": {
      "name": "python3",
      "display_name": "Python 3"
    },
    "language_info": {
      "name": "python"
    }
  },
  "cells": [
    {
      "cell_type": "markdown",
      "metadata": {
        "id": "view-in-github",
        "colab_type": "text"
      },
      "source": [
        "<a href=\"https://colab.research.google.com/github/NonLinear-Academy/programacion-estructurada/blob/main/operadores_logicos.ipynb\" target=\"_parent\"><img src=\"https://colab.research.google.com/assets/colab-badge.svg\" alt=\"Open In Colab\"/></a>"
      ]
    },
    {
      "cell_type": "code",
      "execution_count": null,
      "metadata": {
        "colab": {
          "base_uri": "https://localhost:8080/"
        },
        "id": "Eag0INykPjyd",
        "outputId": "467a2ae7-ccd2-41eb-baf5-18af5c8f174f"
      },
      "outputs": [
        {
          "output_type": "execute_result",
          "data": {
            "text/plain": [
              "1"
            ]
          },
          "metadata": {},
          "execution_count": 62
        }
      ],
      "source": [
        "int(True)"
      ]
    },
    {
      "cell_type": "code",
      "source": [
        "int(False)"
      ],
      "metadata": {
        "colab": {
          "base_uri": "https://localhost:8080/"
        },
        "id": "hm2vGoSgQNEJ",
        "outputId": "b325f5ec-d1a4-4bf8-c488-c86017f37517"
      },
      "execution_count": null,
      "outputs": [
        {
          "output_type": "execute_result",
          "data": {
            "text/plain": [
              "0"
            ]
          },
          "metadata": {},
          "execution_count": 63
        }
      ]
    },
    {
      "cell_type": "code",
      "source": [
        "def tautologia(*args):\n",
        "  return 1"
      ],
      "metadata": {
        "id": "ipFDnpA0RqqB"
      },
      "execution_count": null,
      "outputs": []
    },
    {
      "cell_type": "code",
      "source": [
        "tautologia(1)"
      ],
      "metadata": {
        "colab": {
          "base_uri": "https://localhost:8080/"
        },
        "id": "SsR71VH4SV-h",
        "outputId": "95dbe8fe-3a96-480e-ca23-ab4b474bb1c1"
      },
      "execution_count": null,
      "outputs": [
        {
          "output_type": "execute_result",
          "data": {
            "text/plain": [
              "1"
            ]
          },
          "metadata": {},
          "execution_count": 65
        }
      ]
    },
    {
      "cell_type": "code",
      "source": [
        "tautologia(0)"
      ],
      "metadata": {
        "colab": {
          "base_uri": "https://localhost:8080/"
        },
        "id": "1xeLmjbcSZKF",
        "outputId": "feabd1d1-f75e-4243-8c5f-9ae54b3ff457"
      },
      "execution_count": null,
      "outputs": [
        {
          "output_type": "execute_result",
          "data": {
            "text/plain": [
              "1"
            ]
          },
          "metadata": {},
          "execution_count": 66
        }
      ]
    },
    {
      "cell_type": "code",
      "source": [
        "def falacia(*args):\n",
        "  return 0"
      ],
      "metadata": {
        "id": "-_s9FOVpSeze"
      },
      "execution_count": null,
      "outputs": []
    },
    {
      "cell_type": "code",
      "source": [
        "falacia(1)"
      ],
      "metadata": {
        "colab": {
          "base_uri": "https://localhost:8080/"
        },
        "id": "5y8MXcxuSkRm",
        "outputId": "231a208f-174d-4c39-df47-9288a4e183eb"
      },
      "execution_count": null,
      "outputs": [
        {
          "output_type": "execute_result",
          "data": {
            "text/plain": [
              "0"
            ]
          },
          "metadata": {},
          "execution_count": 68
        }
      ]
    },
    {
      "cell_type": "code",
      "source": [
        "falacia(0)"
      ],
      "metadata": {
        "colab": {
          "base_uri": "https://localhost:8080/"
        },
        "id": "QZ9L8kjISl8d",
        "outputId": "456c0e0d-a2d0-4f79-aba4-7fe539814c8f"
      },
      "execution_count": null,
      "outputs": [
        {
          "output_type": "execute_result",
          "data": {
            "text/plain": [
              "0"
            ]
          },
          "metadata": {},
          "execution_count": 69
        }
      ]
    },
    {
      "cell_type": "code",
      "source": [
        "def identidad(x):\n",
        "  return x"
      ],
      "metadata": {
        "id": "B7B2xdTGSr1y"
      },
      "execution_count": null,
      "outputs": []
    },
    {
      "cell_type": "code",
      "source": [
        "identidad(0)"
      ],
      "metadata": {
        "colab": {
          "base_uri": "https://localhost:8080/"
        },
        "id": "67gBPrtKSxXA",
        "outputId": "0c72305b-b03a-4ae0-e12c-63fbf173096f"
      },
      "execution_count": null,
      "outputs": [
        {
          "output_type": "execute_result",
          "data": {
            "text/plain": [
              "0"
            ]
          },
          "metadata": {},
          "execution_count": 71
        }
      ]
    },
    {
      "cell_type": "code",
      "source": [
        "identidad(1)"
      ],
      "metadata": {
        "colab": {
          "base_uri": "https://localhost:8080/"
        },
        "id": "nTI85Y1ySyuZ",
        "outputId": "9a84e003-b645-42ea-e8cc-4dd2c74f8dc2"
      },
      "execution_count": null,
      "outputs": [
        {
          "output_type": "execute_result",
          "data": {
            "text/plain": [
              "1"
            ]
          },
          "metadata": {},
          "execution_count": 72
        }
      ]
    },
    {
      "cell_type": "code",
      "source": [
        "_negacion = {\n",
        "    0: 1,\n",
        "    1: 0,\n",
        "}"
      ],
      "metadata": {
        "id": "U8Kg43EiS9kx"
      },
      "execution_count": null,
      "outputs": []
    },
    {
      "cell_type": "code",
      "source": [
        "def negacion(x):\n",
        "    return _negacion[x]"
      ],
      "metadata": {
        "id": "gaYOD0AJS3oc"
      },
      "execution_count": null,
      "outputs": []
    },
    {
      "cell_type": "code",
      "source": [
        "negacion(0)"
      ],
      "metadata": {
        "colab": {
          "base_uri": "https://localhost:8080/"
        },
        "id": "N5q743XaTP_i",
        "outputId": "81b406ae-11df-45a2-d3c1-a3b4430d66f1"
      },
      "execution_count": null,
      "outputs": [
        {
          "output_type": "execute_result",
          "data": {
            "text/plain": [
              "1"
            ]
          },
          "metadata": {},
          "execution_count": 75
        }
      ]
    },
    {
      "cell_type": "code",
      "source": [
        "negacion(1)"
      ],
      "metadata": {
        "colab": {
          "base_uri": "https://localhost:8080/"
        },
        "id": "NiKWmXjoTT6F",
        "outputId": "6e07364c-73d2-40f7-9ee6-02bcf5ccebca"
      },
      "execution_count": null,
      "outputs": [
        {
          "output_type": "execute_result",
          "data": {
            "text/plain": [
              "0"
            ]
          },
          "metadata": {},
          "execution_count": 76
        }
      ]
    },
    {
      "cell_type": "markdown",
      "source": [
        "```\n",
        "tabla = {\n",
        "  0 : {\n",
        "    0 : p,\n",
        "    1 : q,\n",
        "  },\n",
        "  1: {\n",
        "    0: r,\n",
        "    1: s\n",
        "  }\n",
        "}\n",
        "```"
      ],
      "metadata": {
        "id": "XW8j8J3WTlwE"
      }
    },
    {
      "cell_type": "code",
      "source": [
        "tautologia(1,0,0)"
      ],
      "metadata": {
        "colab": {
          "base_uri": "https://localhost:8080/"
        },
        "id": "8tlz7fBBUYdz",
        "outputId": "8fb011f9-ce5d-4a79-8f2a-89aa52fe3ece"
      },
      "execution_count": null,
      "outputs": [
        {
          "output_type": "execute_result",
          "data": {
            "text/plain": [
              "1"
            ]
          },
          "metadata": {},
          "execution_count": 77
        }
      ]
    },
    {
      "cell_type": "code",
      "source": [
        "falacia(0,1)"
      ],
      "metadata": {
        "colab": {
          "base_uri": "https://localhost:8080/"
        },
        "id": "q0vDe-ZzUytc",
        "outputId": "f93dba79-24f1-437d-c834-da6cf969bcaf"
      },
      "execution_count": null,
      "outputs": [
        {
          "output_type": "execute_result",
          "data": {
            "text/plain": [
              "0"
            ]
          },
          "metadata": {},
          "execution_count": 78
        }
      ]
    },
    {
      "cell_type": "code",
      "source": [
        "# conjugación\n",
        "_and = {\n",
        "    0 : { 0 : 0, 1 : 0 },\n",
        "    1 : { 0 : 0, 1 : 1 }\n",
        "}"
      ],
      "metadata": {
        "id": "YNpKayqmU-z5"
      },
      "execution_count": null,
      "outputs": []
    },
    {
      "cell_type": "code",
      "source": [
        "def AND(x,y):\n",
        "  return _and[x][y]"
      ],
      "metadata": {
        "id": "b1IsFGujVUr_"
      },
      "execution_count": null,
      "outputs": []
    },
    {
      "cell_type": "code",
      "source": [
        "for x in [0,1]:\n",
        "  for y in [0,1]:\n",
        "    print(f\"{x} AND {y} = {AND(x,y)}\")"
      ],
      "metadata": {
        "colab": {
          "base_uri": "https://localhost:8080/"
        },
        "id": "7GfOx5B4Vfej",
        "outputId": "08ffdadf-0a9a-45eb-a1c4-59ae1b24363c"
      },
      "execution_count": null,
      "outputs": [
        {
          "output_type": "stream",
          "name": "stdout",
          "text": [
            "0 AND 0 = 0\n",
            "0 AND 1 = 0\n",
            "1 AND 0 = 0\n",
            "1 AND 1 = 1\n"
          ]
        }
      ]
    },
    {
      "cell_type": "code",
      "source": [
        "# disjunción (inclusivo)\n",
        "_or = {\n",
        "    0 : { 0 : 0, 1 : 1 },\n",
        "    1 : { 0 : 1, 1 : 1 }\n",
        "}"
      ],
      "metadata": {
        "id": "7Hk49AXiWEaS"
      },
      "execution_count": null,
      "outputs": []
    },
    {
      "cell_type": "code",
      "source": [
        "def OR(x,y):\n",
        "  return _or[x][y]"
      ],
      "metadata": {
        "id": "MedXfEU8WMd1"
      },
      "execution_count": null,
      "outputs": []
    },
    {
      "cell_type": "code",
      "source": [
        "for x in [0,1]:\n",
        "  for y in [0,1]:\n",
        "    print(f\"{x} OR {y} = {OR(x,y)}\")"
      ],
      "metadata": {
        "colab": {
          "base_uri": "https://localhost:8080/"
        },
        "id": "deBG-FoFWRxm",
        "outputId": "1f36758d-23b0-4559-d993-dfb77c13046f"
      },
      "execution_count": null,
      "outputs": [
        {
          "output_type": "stream",
          "name": "stdout",
          "text": [
            "0 OR 0 = 0\n",
            "0 OR 1 = 1\n",
            "1 OR 0 = 1\n",
            "1 OR 1 = 1\n"
          ]
        }
      ]
    },
    {
      "cell_type": "code",
      "source": [
        "#disjunción exclusiva\n",
        "_xor = {\n",
        "    0 : { 0 : 0, 1 : 1 },\n",
        "    1 : { 0 : 1, 1 : 0 }\n",
        "}"
      ],
      "metadata": {
        "id": "A1IWfCB2W9TM"
      },
      "execution_count": null,
      "outputs": []
    },
    {
      "cell_type": "code",
      "source": [
        "def XOR(x,y):\n",
        "  return _xor[x][y]"
      ],
      "metadata": {
        "id": "NnvONF-FXBpO"
      },
      "execution_count": null,
      "outputs": []
    },
    {
      "cell_type": "code",
      "source": [
        "for x in [0,1]:\n",
        "  for y in [0,1]:\n",
        "    print(f\"{x} XOR {y} = {XOR(x,y)}\")"
      ],
      "metadata": {
        "colab": {
          "base_uri": "https://localhost:8080/"
        },
        "id": "djUsSCQnXDxC",
        "outputId": "edccfd67-c2d6-4b22-e388-4af66de7098b"
      },
      "execution_count": null,
      "outputs": [
        {
          "output_type": "stream",
          "name": "stdout",
          "text": [
            "0 XOR 0 = 0\n",
            "0 XOR 1 = 1\n",
            "1 XOR 0 = 1\n",
            "1 XOR 1 = 0\n"
          ]
        }
      ]
    }
  ]
}